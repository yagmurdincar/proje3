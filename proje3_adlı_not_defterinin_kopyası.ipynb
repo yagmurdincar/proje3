{
  "nbformat": 4,
  "nbformat_minor": 0,
  "metadata": {
    "colab": {
      "provenance": [],
      "authorship_tag": "ABX9TyMv51/7rfWQU2LQyBVMgHwn",
      "include_colab_link": true
    },
    "kernelspec": {
      "name": "python3",
      "display_name": "Python 3"
    },
    "language_info": {
      "name": "python"
    }
  },
  "cells": [
    {
      "cell_type": "markdown",
      "metadata": {
        "id": "view-in-github",
        "colab_type": "text"
      },
      "source": [
        "<a href=\"https://colab.research.google.com/github/yagmurdincar/proje3/blob/main/proje3_adl%C4%B1_not_defterinin_kopyas%C4%B1.ipynb\" target=\"_parent\"><img src=\"https://colab.research.google.com/assets/colab-badge.svg\" alt=\"Open In Colab\"/></a>"
      ]
    },
    {
      "cell_type": "code",
      "execution_count": null,
      "metadata": {
        "colab": {
          "base_uri": "https://localhost:8080/"
        },
        "id": "6lTTS1lWLcA1",
        "outputId": "0efb9d73-09ff-4a1c-b4d9-4e0cbc8624b8"
      },
      "outputs": [
        {
          "output_type": "stream",
          "name": "stdout",
          "text": [
            "Collecting langdetect\n",
            "  Downloading langdetect-1.0.9.tar.gz (981 kB)\n",
            "\u001b[?25l     \u001b[90m━━━━━━━━━━━━━━━━━━━━━━━━━━━━━━━━━━━━━━━━\u001b[0m \u001b[32m0.0/981.5 kB\u001b[0m \u001b[31m?\u001b[0m eta \u001b[36m-:--:--\u001b[0m\r\u001b[2K     \u001b[91m━━━━━━━━━━━\u001b[0m\u001b[91m╸\u001b[0m\u001b[90m━━━━━━━━━━━━━━━━━━━━━━━━━━━━\u001b[0m \u001b[32m286.7/981.5 kB\u001b[0m \u001b[31m9.5 MB/s\u001b[0m eta \u001b[36m0:00:01\u001b[0m\r\u001b[2K     \u001b[91m━━━━━━━━━━━━━━━━━━━━━━━━━━━━━━━━━━━━━━━\u001b[0m\u001b[91m╸\u001b[0m \u001b[32m972.8/981.5 kB\u001b[0m \u001b[31m19.2 MB/s\u001b[0m eta \u001b[36m0:00:01\u001b[0m\r\u001b[2K     \u001b[90m━━━━━━━━━━━━━━━━━━━━━━━━━━━━━━━━━━━━━━━━\u001b[0m \u001b[32m981.5/981.5 kB\u001b[0m \u001b[31m12.8 MB/s\u001b[0m eta \u001b[36m0:00:00\u001b[0m\n",
            "\u001b[?25h  Preparing metadata (setup.py) ... \u001b[?25l\u001b[?25hdone\n",
            "Requirement already satisfied: pandas in /usr/local/lib/python3.10/dist-packages (2.2.2)\n",
            "Requirement already satisfied: beautifulsoup4 in /usr/local/lib/python3.10/dist-packages (4.12.3)\n",
            "Requirement already satisfied: six in /usr/local/lib/python3.10/dist-packages (from langdetect) (1.16.0)\n",
            "Requirement already satisfied: numpy>=1.22.4 in /usr/local/lib/python3.10/dist-packages (from pandas) (1.26.4)\n",
            "Requirement already satisfied: python-dateutil>=2.8.2 in /usr/local/lib/python3.10/dist-packages (from pandas) (2.8.2)\n",
            "Requirement already satisfied: pytz>=2020.1 in /usr/local/lib/python3.10/dist-packages (from pandas) (2024.2)\n",
            "Requirement already satisfied: tzdata>=2022.7 in /usr/local/lib/python3.10/dist-packages (from pandas) (2024.2)\n",
            "Requirement already satisfied: soupsieve>1.2 in /usr/local/lib/python3.10/dist-packages (from beautifulsoup4) (2.6)\n",
            "Building wheels for collected packages: langdetect\n",
            "  Building wheel for langdetect (setup.py) ... \u001b[?25l\u001b[?25hdone\n",
            "  Created wheel for langdetect: filename=langdetect-1.0.9-py3-none-any.whl size=993222 sha256=d1c7dbd40f299271de27d53d2efc1e3a9fd67269d33ba100547503d6f06cd271\n",
            "  Stored in directory: /root/.cache/pip/wheels/95/03/7d/59ea870c70ce4e5a370638b5462a7711ab78fba2f655d05106\n",
            "Successfully built langdetect\n",
            "Installing collected packages: langdetect\n",
            "Successfully installed langdetect-1.0.9\n",
            "   id                     text language\n",
            "0   1     Merhaba, nasılsınız?       tr\n",
            "1   2      Hello, how are you?       en\n",
            "2   3         Wie geht es dir?       de\n",
            "3   4  Bonjour, comment ça va?       fr\n",
            "4   5             ¿Cómo estás?       es\n"
          ]
        }
      ],
      "source": [
        "# Gerekli kütüphaneleri yükleyelim\n",
        "!pip install langdetect pandas beautifulsoup4\n",
        "\n",
        "# Gerekli kütüphaneleri import edelim\n",
        "import pandas as pd\n",
        "from langdetect import detect\n",
        "\n",
        "# Örnek metin verisini hazırlayalım\n",
        "data = [\n",
        "    {\"id\": 1, \"text\": \"Merhaba, nasılsınız?\"},\n",
        "    {\"id\": 2, \"text\": \"Hello, how are you?\"},\n",
        "    {\"id\": 3, \"text\": \"Wie geht es dir?\"},\n",
        "    {\"id\": 4, \"text\": \"Bonjour, comment ça va?\"},\n",
        "    {\"id\": 5, \"text\": \"¿Cómo estás?\"}\n",
        "]\n",
        "\n",
        "# Pandas DataFrame oluşturma\n",
        "df = pd.DataFrame(data)\n",
        "\n",
        "# Dil tespiti fonksiyonu\n",
        "def detect_language(text):\n",
        "    try:\n",
        "        # langdetect ile metnin dilini tespit et\n",
        "        return detect(text)\n",
        "    except:\n",
        "        return \"unknown\"  # Eğer dil tespiti yapılamazsa \"unknown\" döner\n",
        "\n",
        "# DataFrame'e dil tespiti kolonunu ekleyelim\n",
        "df['language'] = df['text'].apply(detect_language)\n",
        "\n",
        "# Sonuçları görüntüleyelim\n",
        "print(df[['id', 'text', 'language']])"
      ]
    }
  ]
}